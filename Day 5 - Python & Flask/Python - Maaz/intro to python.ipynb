{
 "cells": [
  {
   "cell_type": "markdown",
   "id": "67874842",
   "metadata": {},
   "source": [
    "# Python Programming"
   ]
  },
  {
   "cell_type": "markdown",
   "id": "53322702",
   "metadata": {},
   "source": [
    "## Maaz Ali Nadeem"
   ]
  },
  {
   "cell_type": "markdown",
   "id": "8fbade05",
   "metadata": {},
   "source": [
    "BS AI ~ \n",
    "FAST NUCES Islamabad"
   ]
  },
  {
   "cell_type": "markdown",
   "id": "ba9f0d6a",
   "metadata": {},
   "source": [
    "## 1) Variables in Python"
   ]
  },
  {
   "cell_type": "markdown",
   "id": "8e023b96",
   "metadata": {},
   "source": [
    "Cannot Use..\n",
    "and, as, assert, break, class, continue, def, del, elif, else, except, \n",
    "exec, finally, for, from, global, if, import, in, is, lambda, not, or,\n",
    "pass, print, raise, return, try, while, with, yield"
   ]
  },
  {
   "cell_type": "code",
   "execution_count": 61,
   "id": "d39dcc07",
   "metadata": {},
   "outputs": [
    {
     "name": "stdout",
     "output_type": "stream",
     "text": [
      "20\n",
      "20\n",
      "20\n"
     ]
    }
   ],
   "source": [
    "a = 20\n",
    "my_age = 20\n",
    "_age = a\n",
    "\n",
    "print(a)\n",
    "print(my_age)\n",
    "print(_age)"
   ]
  },
  {
   "cell_type": "code",
   "execution_count": 62,
   "id": "f65e72d6",
   "metadata": {},
   "outputs": [
    {
     "data": {
      "text/plain": [
       "int"
      ]
     },
     "execution_count": 62,
     "metadata": {},
     "output_type": "execute_result"
    }
   ],
   "source": [
    "#Check the type of a variable\n",
    "type(_age)"
   ]
  },
  {
   "cell_type": "code",
   "execution_count": 63,
   "id": "83974187",
   "metadata": {},
   "outputs": [
    {
     "data": {
      "text/plain": [
       "str"
      ]
     },
     "execution_count": 63,
     "metadata": {},
     "output_type": "execute_result"
    }
   ],
   "source": [
    "_age = \"20\"\n",
    "type(_age)"
   ]
  },
  {
   "cell_type": "code",
   "execution_count": 64,
   "id": "386ee176",
   "metadata": {},
   "outputs": [
    {
     "data": {
      "text/plain": [
       "float"
      ]
     },
     "execution_count": 64,
     "metadata": {},
     "output_type": "execute_result"
    }
   ],
   "source": [
    "_age = 20.0\n",
    "type(_age)"
   ]
  },
  {
   "cell_type": "code",
   "execution_count": 65,
   "id": "c36a01af",
   "metadata": {},
   "outputs": [
    {
     "data": {
      "text/plain": [
       "bool"
      ]
     },
     "execution_count": 65,
     "metadata": {},
     "output_type": "execute_result"
    }
   ],
   "source": [
    "_age = False\n",
    "type(_age)"
   ]
  },
  {
   "cell_type": "code",
   "execution_count": 66,
   "id": "f4955caa",
   "metadata": {},
   "outputs": [
    {
     "name": "stdout",
     "output_type": "stream",
     "text": [
      "<class 'complex'>\n",
      "(1-0.5j)\n",
      "1.0\n",
      "-0.5\n"
     ]
    }
   ],
   "source": [
    "_age = 1.0 + -0.5j\n",
    "print(type(_age))\n",
    "print(_age)\n",
    "\n",
    "print(_age.real)\n",
    "print(_age.imag)"
   ]
  },
  {
   "cell_type": "code",
   "execution_count": 67,
   "id": "038a8a1e",
   "metadata": {},
   "outputs": [
    {
     "name": "stdout",
     "output_type": "stream",
     "text": [
      "False\n",
      "True\n"
     ]
    }
   ],
   "source": [
    "#use the 'is' check to see if the type of a variable matches what we are comparing with\n",
    "\n",
    "print(type(_age) is bool)\n",
    "print(type(_age) is complex)"
   ]
  },
  {
   "cell_type": "markdown",
   "id": "2f12fd29",
   "metadata": {},
   "source": [
    "## 2) Type Casting in Python"
   ]
  },
  {
   "cell_type": "code",
   "execution_count": 68,
   "id": "2243deac",
   "metadata": {},
   "outputs": [
    {
     "name": "stdout",
     "output_type": "stream",
     "text": [
      "<class 'float'>\n"
     ]
    }
   ],
   "source": [
    "age = 19.5\n",
    "print(type(age))"
   ]
  },
  {
   "cell_type": "code",
   "execution_count": 69,
   "id": "045707af",
   "metadata": {},
   "outputs": [
    {
     "name": "stdout",
     "output_type": "stream",
     "text": [
      "19\n",
      "<class 'int'>\n"
     ]
    }
   ],
   "source": [
    "age = int(age)\n",
    "print(age)\n",
    "print(type(age))"
   ]
  },
  {
   "cell_type": "code",
   "execution_count": 70,
   "id": "bad2f9a8",
   "metadata": {},
   "outputs": [
    {
     "name": "stdout",
     "output_type": "stream",
     "text": [
      "29.5\n"
     ]
    }
   ],
   "source": [
    "age = \"19.5\"\n",
    "\n",
    "#cannot do age + 10\n",
    "#solution: typcast to float then calculate\n",
    "\n",
    "age = float(age)\n",
    "age += 10\n",
    "\n",
    "print(age)"
   ]
  },
  {
   "cell_type": "code",
   "execution_count": 71,
   "id": "85d5bc6e",
   "metadata": {},
   "outputs": [
    {
     "ename": "ValueError",
     "evalue": "could not convert string to float: 'a19.5'",
     "output_type": "error",
     "traceback": [
      "\u001b[1;31m---------------------------------------------------------------------------\u001b[0m",
      "\u001b[1;31mValueError\u001b[0m                                Traceback (most recent call last)",
      "\u001b[1;32mC:\\Users\\MAAZAL~1\\AppData\\Local\\Temp/ipykernel_1712/1602555083.py\u001b[0m in \u001b[0;36m<module>\u001b[1;34m\u001b[0m\n\u001b[0;32m      1\u001b[0m \u001b[0mage\u001b[0m \u001b[1;33m=\u001b[0m \u001b[1;34m\"a19.5\"\u001b[0m\u001b[1;33m\u001b[0m\u001b[1;33m\u001b[0m\u001b[0m\n\u001b[0;32m      2\u001b[0m \u001b[1;33m\u001b[0m\u001b[0m\n\u001b[1;32m----> 3\u001b[1;33m \u001b[0mage\u001b[0m \u001b[1;33m=\u001b[0m \u001b[0mfloat\u001b[0m\u001b[1;33m(\u001b[0m\u001b[0mage\u001b[0m\u001b[1;33m)\u001b[0m\u001b[1;33m\u001b[0m\u001b[1;33m\u001b[0m\u001b[0m\n\u001b[0m",
      "\u001b[1;31mValueError\u001b[0m: could not convert string to float: 'a19.5'"
     ]
    }
   ],
   "source": [
    "#Cannot Do This\n",
    "age = \"a19.5\"\n",
    "\n",
    "age = float(age)"
   ]
  },
  {
   "cell_type": "markdown",
   "id": "7847120c",
   "metadata": {},
   "source": [
    "## 3) Arithmetics & Comparisons"
   ]
  },
  {
   "cell_type": "code",
   "execution_count": 24,
   "id": "0b0381fc",
   "metadata": {},
   "outputs": [
    {
     "name": "stdout",
     "output_type": "stream",
     "text": [
      "7\n",
      "3\n",
      "50\n",
      "2.5\n",
      "2\n",
      "25\n"
     ]
    }
   ],
   "source": [
    "print(5+2)\n",
    "print(5-2)\n",
    "print(5*10)\n",
    "print(5/2)\n",
    "print(5//2)\n",
    "print(5**2)"
   ]
  },
  {
   "cell_type": "code",
   "execution_count": 72,
   "id": "b4c82100",
   "metadata": {},
   "outputs": [
    {
     "name": "stdout",
     "output_type": "stream",
     "text": [
      "False\n",
      "True\n",
      "True\n"
     ]
    }
   ],
   "source": [
    "#Comparisons\n",
    "print(8>9)\n",
    "print(12>10 and 11>10)\n",
    "\n",
    "a = 10\n",
    "print(a==10)"
   ]
  },
  {
   "cell_type": "code",
   "execution_count": 33,
   "id": "9252719d",
   "metadata": {},
   "outputs": [
    {
     "name": "stdout",
     "output_type": "stream",
     "text": [
      "True\n",
      "False\n"
     ]
    }
   ],
   "source": [
    "#Lists only have same values\n",
    "list1 = [1,2,3,4,5]\n",
    "list2 = [1,2,3,4,5]\n",
    "\n",
    "print(list1 == list2)\n",
    "print(list1 is list2)"
   ]
  },
  {
   "cell_type": "code",
   "execution_count": 32,
   "id": "e5e73285",
   "metadata": {},
   "outputs": [
    {
     "name": "stdout",
     "output_type": "stream",
     "text": [
      "True\n",
      "True\n"
     ]
    }
   ],
   "source": [
    "#Lists have same value, and also refer to the same list\n",
    "list1 = [1,2,3,4,5]\n",
    "list2 = list1\n",
    "\n",
    "print(list1 == list2)\n",
    "print(list1 is list2)"
   ]
  },
  {
   "cell_type": "markdown",
   "id": "aa8adc9b",
   "metadata": {},
   "source": [
    "## 4) Strings"
   ]
  },
  {
   "cell_type": "code",
   "execution_count": 73,
   "id": "66906490",
   "metadata": {},
   "outputs": [
    {
     "name": "stdout",
     "output_type": "stream",
     "text": [
      "23\n"
     ]
    }
   ],
   "source": [
    "var = \"Assalam O Alaikum Dunya\"\n",
    "\n",
    "#find length of the variable (number of characters)\n",
    "length = len(var)\n",
    "print(length)"
   ]
  },
  {
   "cell_type": "code",
   "execution_count": 74,
   "id": "f5eb4670",
   "metadata": {},
   "outputs": [
    {
     "data": {
      "text/plain": [
       "'Assalam O Alaikum World'"
      ]
     },
     "execution_count": 74,
     "metadata": {},
     "output_type": "execute_result"
    }
   ],
   "source": [
    "#Replace a particular word with another, in the string\n",
    "var = var.replace(\"Dunya\", \"World\")\n",
    "var"
   ]
  },
  {
   "cell_type": "code",
   "execution_count": 75,
   "id": "10886372",
   "metadata": {},
   "outputs": [
    {
     "name": "stdout",
     "output_type": "stream",
     "text": [
      "A\n",
      "s\n",
      "a\n",
      "O\n"
     ]
    }
   ],
   "source": [
    "print(var[0])\n",
    "print(var[1])\n",
    "print(var[3])\n",
    "print(var[8])"
   ]
  },
  {
   "cell_type": "code",
   "execution_count": 76,
   "id": "93fd3967",
   "metadata": {},
   "outputs": [
    {
     "data": {
      "text/plain": [
       "'Assalam '"
      ]
     },
     "execution_count": 76,
     "metadata": {},
     "output_type": "execute_result"
    }
   ],
   "source": [
    "#extract the world \"Assalam\"\n",
    "temp1 = var[0:8]\n",
    "temp1"
   ]
  },
  {
   "cell_type": "code",
   "execution_count": 77,
   "id": "bd52166a",
   "metadata": {},
   "outputs": [
    {
     "data": {
      "text/plain": [
       "'Alaikum World'"
      ]
     },
     "execution_count": 77,
     "metadata": {},
     "output_type": "execute_result"
    }
   ],
   "source": [
    "#Extract the words \"Alaikum World\"\n",
    "temp2 = var[10:]\n",
    "temp2"
   ]
  },
  {
   "cell_type": "code",
   "execution_count": 78,
   "id": "89b7c461",
   "metadata": {},
   "outputs": [
    {
     "data": {
      "text/plain": [
       "'Alaikum'"
      ]
     },
     "execution_count": 78,
     "metadata": {},
     "output_type": "execute_result"
    }
   ],
   "source": [
    "#Extract the word \"Alaikum\"\n",
    "temp3 = var[10:17]\n",
    "temp3"
   ]
  },
  {
   "cell_type": "code",
   "execution_count": 79,
   "id": "e8d53f53",
   "metadata": {},
   "outputs": [
    {
     "data": {
      "text/plain": [
       "'AslmOAakmWrd'"
      ]
     },
     "execution_count": 79,
     "metadata": {},
     "output_type": "execute_result"
    }
   ],
   "source": [
    "#Take the Even Position Occurences of the string\n",
    "temp4 = var[::2]\n",
    "temp4"
   ]
  },
  {
   "cell_type": "code",
   "execution_count": 80,
   "id": "f7bdd237",
   "metadata": {},
   "outputs": [
    {
     "name": "stdout",
     "output_type": "stream",
     "text": [
      "Assalam O Alaikum World \n",
      "\n",
      "Assalam O Alaikum World We're at NUML!\n",
      "\n",
      "Assalam O Alaikum World 20 False \n",
      "\n",
      "Assalam O Alaikum WorldWe're at NUML!\n",
      "\n",
      "Assalam O Alaikum World my age is: 20\n"
     ]
    }
   ],
   "source": [
    "#printing\n",
    "\n",
    "print(var, \"\\n\")\n",
    "print(var, \"We're at NUML!\\n\")\n",
    "print(var, 20, False, \"\\n\")\n",
    "\n",
    "\n",
    "age = 20\n",
    "print(var+\"We're at NUML!\\n\")\n",
    "print(var+\" my age is: \" + str(age))"
   ]
  },
  {
   "cell_type": "code",
   "execution_count": 81,
   "id": "d3203dd5",
   "metadata": {},
   "outputs": [
    {
     "name": "stdout",
     "output_type": "stream",
     "text": [
      "Maaz Ali Nadeem\n"
     ]
    }
   ],
   "source": [
    "first_name = \"Maaz\"\n",
    "second_name = \"Ali\"\n",
    "last_name = \"Nadeem\"\n",
    "\n",
    "full_name = first_name + \" \" + second_name + \" \" + last_name\n",
    "\n",
    "print(full_name)"
   ]
  },
  {
   "cell_type": "markdown",
   "id": "b1c08a01",
   "metadata": {},
   "source": [
    "## 5) Lists"
   ]
  },
  {
   "cell_type": "code",
   "execution_count": 82,
   "id": "e1768a61",
   "metadata": {},
   "outputs": [
    {
     "name": "stdout",
     "output_type": "stream",
     "text": [
      "[1, 2, 3, 4, 5]\n"
     ]
    }
   ],
   "source": [
    "list1 = [1,2,3,4,5]\n",
    "print(list1)"
   ]
  },
  {
   "cell_type": "code",
   "execution_count": 83,
   "id": "21362dff",
   "metadata": {},
   "outputs": [
    {
     "name": "stdout",
     "output_type": "stream",
     "text": [
      "[3, 4, 5]\n",
      "[1, 3, 5]\n"
     ]
    }
   ],
   "source": [
    "#List Slicing (Same as string slicing)\n",
    "print(list1[2:5])\n",
    "print(list1[::2])"
   ]
  },
  {
   "cell_type": "code",
   "execution_count": 78,
   "id": "0b4fff96",
   "metadata": {},
   "outputs": [
    {
     "name": "stdout",
     "output_type": "stream",
     "text": [
      "[1, '1', 'one', 1.0]\n"
     ]
    }
   ],
   "source": [
    "list2 = [1, \"1\", \"one\", 1.0]\n",
    "print(list2)"
   ]
  },
  {
   "cell_type": "code",
   "execution_count": 80,
   "id": "a2283b93",
   "metadata": {},
   "outputs": [
    {
     "name": "stdout",
     "output_type": "stream",
     "text": [
      "[[6, 7], [8, 9]]\n"
     ]
    }
   ],
   "source": [
    "list3 = [1,[2], [3,4,5],[[6,7], [8,9]]]\n",
    "print(list3[3])"
   ]
  },
  {
   "cell_type": "code",
   "execution_count": 1,
   "id": "7f3015dd",
   "metadata": {},
   "outputs": [
    {
     "name": "stdout",
     "output_type": "stream",
     "text": [
      "['H', 'e', 'l', 'l', 'o', ' ', 'W', 'o', 'r', 'l', 'd']\n"
     ]
    }
   ],
   "source": [
    "#Converting a string into a list of characters\n",
    "word = \"Hello World\"\n",
    "list_word = list(word)\n",
    "print(list_word)"
   ]
  },
  {
   "cell_type": "code",
   "execution_count": 20,
   "id": "b8959e1c",
   "metadata": {},
   "outputs": [
    {
     "name": "stdout",
     "output_type": "stream",
     "text": [
      "['A', 'B']\n"
     ]
    }
   ],
   "source": [
    "#Using the .append(val) function to add to the end\n",
    "list4 = []\n",
    "\n",
    "list4.append(\"A\")\n",
    "list4.append(\"B\")\n",
    "\n",
    "print(list4)"
   ]
  },
  {
   "cell_type": "code",
   "execution_count": 22,
   "id": "3d8da972",
   "metadata": {},
   "outputs": [
    {
     "name": "stdout",
     "output_type": "stream",
     "text": [
      "['A', 'C', 'C', 'B']\n"
     ]
    }
   ],
   "source": [
    "#Using the .insert(index,val) to insert at a particular index\n",
    "\n",
    "list4.insert(1,\"C\")\n",
    "print(list4)"
   ]
  },
  {
   "cell_type": "code",
   "execution_count": 23,
   "id": "7aba9f6c",
   "metadata": {},
   "outputs": [
    {
     "name": "stdout",
     "output_type": "stream",
     "text": [
      "['C', 'C', 'B']\n",
      "['C', 'B']\n"
     ]
    }
   ],
   "source": [
    "#Delete Values\n",
    "\n",
    "#1) Delete Particular Index\n",
    "del list4[0]\n",
    "\n",
    "print(list4)\n",
    "\n",
    "#2) Delete First Occurence of a Particular Value\n",
    "list4.remove(\"C\")\n",
    "\n",
    "print(list4)"
   ]
  },
  {
   "cell_type": "code",
   "execution_count": 93,
   "id": "e43fba55",
   "metadata": {},
   "outputs": [
    {
     "data": {
      "text/plain": [
       "[9, 8, 7, 4, 3, 2, 1]"
      ]
     },
     "execution_count": 93,
     "metadata": {},
     "output_type": "execute_result"
    }
   ],
   "source": [
    "list5 = [4,9,1,2,8,7,3]\n",
    "list5.sort(reverse=True)\n",
    "list5"
   ]
  },
  {
   "cell_type": "markdown",
   "id": "b99e19ab",
   "metadata": {},
   "source": [
    "## 6) Tuples"
   ]
  },
  {
   "cell_type": "code",
   "execution_count": 29,
   "id": "6c9f73d7",
   "metadata": {},
   "outputs": [
    {
     "name": "stdout",
     "output_type": "stream",
     "text": [
      "X:  5\n",
      "Y:  10\n"
     ]
    }
   ],
   "source": [
    "#immutable, used for unpacking\n",
    "coord = (5,10)\n",
    "x, y= coord\n",
    "\n",
    "print(\"X: \", x)\n",
    "print(\"Y: \", y)"
   ]
  },
  {
   "cell_type": "markdown",
   "id": "8793d634",
   "metadata": {},
   "source": [
    "## 7) Dictionaries"
   ]
  },
  {
   "cell_type": "code",
   "execution_count": 84,
   "id": "2eb516dc",
   "metadata": {},
   "outputs": [
    {
     "name": "stdout",
     "output_type": "stream",
     "text": [
      "{'Pakistan': 40, 'India': 145, 'China': 500, 'Mexico': 'None'}\n"
     ]
    }
   ],
   "source": [
    "dic={ \"Pakistan\" : 40, \n",
    "      \"India\"    : 145, \n",
    "      \"China\"    : 500, \n",
    "      \"Mexico\"   : \"None\"\n",
    "    }\n",
    "\n",
    "print(dic)"
   ]
  },
  {
   "cell_type": "code",
   "execution_count": 85,
   "id": "03324306",
   "metadata": {},
   "outputs": [
    {
     "data": {
      "text/plain": [
       "40"
      ]
     },
     "execution_count": 85,
     "metadata": {},
     "output_type": "execute_result"
    }
   ],
   "source": [
    "dic[\"Pakistan\"]"
   ]
  },
  {
   "cell_type": "code",
   "execution_count": 86,
   "id": "8c91428f",
   "metadata": {},
   "outputs": [
    {
     "data": {
      "text/plain": [
       "{'Pakistan': 38, 'India': 145, 'China': 500, 'Mexico': 'None'}"
      ]
     },
     "execution_count": 86,
     "metadata": {},
     "output_type": "execute_result"
    }
   ],
   "source": [
    "dic[\"Pakistan\"] = 38\n",
    "dic"
   ]
  },
  {
   "cell_type": "code",
   "execution_count": 87,
   "id": "f8257d75",
   "metadata": {},
   "outputs": [
    {
     "name": "stdout",
     "output_type": "stream",
     "text": [
      "Pakistan  :  38\n",
      "India  :  145\n",
      "China  :  500\n",
      "Mexico  :  None\n"
     ]
    }
   ],
   "source": [
    "#Print the Key and Value Pair\n",
    "for i, j in dic.items():\n",
    "    print(i, \" : \", j)"
   ]
  },
  {
   "cell_type": "code",
   "execution_count": 88,
   "id": "2beb598c",
   "metadata": {},
   "outputs": [
    {
     "name": "stdout",
     "output_type": "stream",
     "text": [
      "{'Pakistan': 38, 'India': 145, 'China': 500, 'Mexico': 'None', 'Turkey': 90}\n"
     ]
    }
   ],
   "source": [
    "#Add a new key value pair\n",
    "dic[\"Turkey\"] = 90\n",
    "\n",
    "print(dic)"
   ]
  },
  {
   "cell_type": "code",
   "execution_count": 35,
   "id": "f9465e7b",
   "metadata": {},
   "outputs": [
    {
     "name": "stdout",
     "output_type": "stream",
     "text": [
      "{'Pakistan': 38, 'India': 145, 'China': 500, 'Turkey': 90}\n"
     ]
    }
   ],
   "source": [
    "#remove an exisiting Key Value Pair\n",
    "dic.pop(\"Mexico\")\n",
    "print(dic)"
   ]
  },
  {
   "cell_type": "code",
   "execution_count": 89,
   "id": "0b30cfbd",
   "metadata": {},
   "outputs": [
    {
     "name": "stdout",
     "output_type": "stream",
     "text": [
      "Family: \n",
      "{'child1': {'name': 'Maaz', 'age': 21}, 'child2': {'name': 'Ali', 'age': 19}}\n"
     ]
    }
   ],
   "source": [
    "#Nested Dictionary\n",
    "Family = {\n",
    "    \n",
    "        \"child1\" : {\n",
    "            \"name\":\"Maaz\", \n",
    "            \"age\":21\n",
    "        }, \n",
    "    \n",
    "        \"child2\" : {\n",
    "            \"name\":\"Ali\", \n",
    "            \"age\": 19\n",
    "        }\n",
    "}\n",
    "\n",
    "print(\"Family: \")\n",
    "print(Family)"
   ]
  },
  {
   "cell_type": "markdown",
   "id": "e6fad4f6",
   "metadata": {},
   "source": [
    "## 8) If - Else If - Else"
   ]
  },
  {
   "cell_type": "code",
   "execution_count": 4,
   "id": "2edda3d5",
   "metadata": {},
   "outputs": [
    {
     "name": "stdout",
     "output_type": "stream",
     "text": [
      "Enter your age: 19\n",
      "You're eligible for a license\n"
     ]
    }
   ],
   "source": [
    "age = input(\"Enter your age: \")\n",
    "age = int(age)\n",
    "\n",
    "if (age<18):\n",
    "    print(\"You're too young for a license\")\n",
    "elif (age >= 18 and age <=60):\n",
    "    print(\"You're eligible for a license\")\n",
    "else:\n",
    "    print(\"You're too old for a license\")\n"
   ]
  },
  {
   "cell_type": "code",
   "execution_count": 5,
   "id": "d536272a",
   "metadata": {},
   "outputs": [
    {
     "name": "stdout",
     "output_type": "stream",
     "text": [
      "2\n"
     ]
    }
   ],
   "source": [
    "if (True and False):\n",
    "    print(\"1\")\n",
    "else:\n",
    "    print(\"2\")"
   ]
  },
  {
   "cell_type": "code",
   "execution_count": 7,
   "id": "c1d98db5",
   "metadata": {},
   "outputs": [
    {
     "name": "stdout",
     "output_type": "stream",
     "text": [
      "1\n"
     ]
    }
   ],
   "source": [
    "if (False or True):\n",
    "    print(\"1\")\n",
    "else:\n",
    "    print(\"2\")"
   ]
  },
  {
   "cell_type": "markdown",
   "id": "c32de04c",
   "metadata": {},
   "source": [
    "## 9) Loops"
   ]
  },
  {
   "cell_type": "code",
   "execution_count": 8,
   "id": "2bac7304",
   "metadata": {},
   "outputs": [
    {
     "name": "stdout",
     "output_type": "stream",
     "text": [
      "0\n",
      "1\n",
      "2\n",
      "3\n",
      "4\n",
      "5\n",
      "6\n",
      "7\n",
      "8\n",
      "9\n"
     ]
    }
   ],
   "source": [
    "#basic for loop\n",
    "for i in range(0, 10):\n",
    "    print(i)"
   ]
  },
  {
   "cell_type": "code",
   "execution_count": 30,
   "id": "4977a2aa",
   "metadata": {},
   "outputs": [
    {
     "name": "stdout",
     "output_type": "stream",
     "text": [
      "0\n",
      "1\n",
      "2\n",
      "3\n",
      "4\n",
      "\n",
      "\n",
      "\n",
      "H\n",
      "e\n",
      "l\n",
      "l\n",
      "o\n"
     ]
    }
   ],
   "source": [
    "#iterating lists\n",
    "list1 = range(0,5)\n",
    "list2 = list(\"Hello\")\n",
    "\n",
    "for x in list1:\n",
    "    print(x)\n",
    "    \n",
    "print(\"\\n\\n\")\n",
    "\n",
    "for y in list2:\n",
    "    print(y)"
   ]
  },
  {
   "cell_type": "code",
   "execution_count": 31,
   "id": "54073d5b",
   "metadata": {},
   "outputs": [
    {
     "name": "stdout",
     "output_type": "stream",
     "text": [
      "PakistanPakistanPakistan\n",
      "IndiaIndiaIndia\n",
      "ChinaChinaChina\n",
      "MexicoMexicoMexico\n",
      "\n",
      "\n",
      "1\n",
      "4\n",
      "27\n",
      "256\n",
      "3125\n"
     ]
    }
   ],
   "source": [
    "#iterate through dictionary items\n",
    "countries = dic.keys()\n",
    "countries = list(countries) \n",
    "\n",
    "for c in countries:\n",
    "    print(c*3)\n",
    "\n",
    "print(\"\\n\")\n",
    "\n",
    "#iterate through a list by indexes, and raise it to the power of its value\n",
    "list3 = [1,2,3,4,5]\n",
    "\n",
    "for i in range(0,len(list3)):\n",
    "    list3[i] = list3[i] ** list3[i]\n",
    "    print(list3[i])\n",
    "    "
   ]
  },
  {
   "cell_type": "code",
   "execution_count": 39,
   "id": "1659d0ae",
   "metadata": {},
   "outputs": [
    {
     "name": "stdout",
     "output_type": "stream",
     "text": [
      "Pakistan  ->  40\n",
      "India  ->  145\n",
      "China  ->  500\n",
      "Mexico  ->  None\n"
     ]
    }
   ],
   "source": [
    "#iterate dictionaries\n",
    "\n",
    "for key,value in dic.items():\n",
    "    print(key, \" -> \", value)"
   ]
  },
  {
   "cell_type": "code",
   "execution_count": 38,
   "id": "f95090fa",
   "metadata": {},
   "outputs": [
    {
     "name": "stdout",
     "output_type": "stream",
     "text": [
      "1 ) Pakistan Zindabad\n",
      "2 ) Pakistan Zindabad\n",
      "3 ) Pakistan Zindabad\n",
      "4 ) Pakistan Zindabad\n",
      "5 ) Pakistan Zindabad\n",
      "6 ) Pakistan Zindabad\n",
      "7 ) Pakistan Zindabad\n",
      "8 ) Pakistan Zindabad\n",
      "9 ) Pakistan Zindabad\n",
      "10 ) Pakistan Zindabad\n"
     ]
    }
   ],
   "source": [
    "#while loops\n",
    "count = 0\n",
    "times = 10\n",
    "while (count<times):\n",
    "    print(count+1, \") Pakistan Zindabad\")\n",
    "    count = count+1"
   ]
  },
  {
   "cell_type": "code",
   "execution_count": 34,
   "id": "42a87a0b",
   "metadata": {},
   "outputs": [
    {
     "name": "stdout",
     "output_type": "stream",
     "text": [
      "1200\n"
     ]
    }
   ],
   "source": [
    "#while loops\n",
    "\n",
    "age = 30\n",
    "commission = 0\n",
    "\n",
    "while (age>18):\n",
    "    commission += 100\n",
    "    age-= 1\n",
    "    \n",
    "print(commission)"
   ]
  },
  {
   "cell_type": "code",
   "execution_count": 40,
   "id": "dcf96355",
   "metadata": {},
   "outputs": [
    {
     "data": {
      "text/plain": [
       "[0, 1, 2, 3, 4]"
      ]
     },
     "execution_count": 40,
     "metadata": {},
     "output_type": "execute_result"
    }
   ],
   "source": [
    "#list comprehension\n",
    "\n",
    "list1 = []\n",
    "for i in range(0, 5):\n",
    "    list1.append(i)\n",
    "    \n",
    "list1"
   ]
  },
  {
   "cell_type": "code",
   "execution_count": 43,
   "id": "8880af84",
   "metadata": {},
   "outputs": [
    {
     "data": {
      "text/plain": [
       "[3, 4, 5, 6, 7]"
      ]
     },
     "execution_count": 43,
     "metadata": {},
     "output_type": "execute_result"
    }
   ],
   "source": [
    "list1 = [i+3 for i in range(0,5)]\n",
    "list1"
   ]
  },
  {
   "cell_type": "markdown",
   "id": "95dc0a91",
   "metadata": {},
   "source": [
    "## 10) Functions"
   ]
  },
  {
   "cell_type": "code",
   "execution_count": 57,
   "id": "bf7e7f3e",
   "metadata": {},
   "outputs": [],
   "source": [
    "#Pass a name to a function to print a Hi statement with that name\n",
    "def say_hi_to(name):\n",
    "    print(\"Hi\", name)\n",
    "  \n",
    "#Given an age, check if that age is eligible for a license, print relevant message\n",
    "def eligibility(age):\n",
    "    if (age<18):\n",
    "        print(\"You're too young for a license\")\n",
    "    elif (age >= 18 and age <=60):\n",
    "        print(\"You're eligible for a license\")\n",
    "    else:\n",
    "        print(\"You're too old for a license\")\n",
    "\n",
    "#Print a given list/array in reverse\n",
    "def reverse_print(list1):\n",
    "    length = len(list1)\n",
    "    length-=1\n",
    "    \n",
    "    while (length >= 0):\n",
    "        print(list1[length])\n",
    "        length -= 1\n",
    "\n",
    "#Get details of a customer, and return as a tuple to unpack\n",
    "def get_details():\n",
    "    \n",
    "    name = input(\"Enter Name: \")\n",
    "    age = input(\"Enter Age: \")\n",
    "    \n",
    "    #convert into a tuple\n",
    "    dets = (name, age)\n",
    "    \n",
    "    return dets\n",
    "\n",
    "#check if a particular value exists in a list\n",
    "def exists(list1, num):\n",
    "    \n",
    "    for val in list1:\n",
    "        if (val == num):\n",
    "            return True\n",
    "    \n",
    "    return False\n",
    "\n",
    "\n",
    "#return the square of a number\n",
    "def get_square(val):\n",
    "    return val*val"
   ]
  },
  {
   "cell_type": "code",
   "execution_count": 45,
   "id": "7f519993",
   "metadata": {},
   "outputs": [
    {
     "name": "stdout",
     "output_type": "stream",
     "text": [
      "Hi Usman\n"
     ]
    }
   ],
   "source": [
    "#Say Hi to Usman\n",
    "say_hi_to(\"Usman\")"
   ]
  },
  {
   "cell_type": "code",
   "execution_count": 47,
   "id": "4e3f4534",
   "metadata": {},
   "outputs": [
    {
     "name": "stdout",
     "output_type": "stream",
     "text": [
      "You're too young for a license\n"
     ]
    }
   ],
   "source": [
    "#Check if a person aged 17 is eligible for license\n",
    "eligibility(17)"
   ]
  },
  {
   "cell_type": "code",
   "execution_count": 49,
   "id": "63ca9d44",
   "metadata": {},
   "outputs": [
    {
     "name": "stdout",
     "output_type": "stream",
     "text": [
      "5\n",
      "4\n",
      "3\n",
      "2\n",
      "1\n"
     ]
    }
   ],
   "source": [
    "#Print the given list in reverse\n",
    "reverse_print([1,2,3,4,5])"
   ]
  },
  {
   "cell_type": "code",
   "execution_count": 55,
   "id": "e44981df",
   "metadata": {},
   "outputs": [
    {
     "name": "stdout",
     "output_type": "stream",
     "text": [
      "Enter Name: Maaz\n",
      "Enter Age: 21\n",
      "\n",
      "Your details are as follows:\n",
      "Maaz\n",
      "21\n"
     ]
    }
   ],
   "source": [
    "#Get Details of a new employee\n",
    "n1, a1 = get_details()\n",
    "\n",
    "print(\"\\nYour details are as follows:\")\n",
    "print(n1)\n",
    "print(a1)"
   ]
  },
  {
   "cell_type": "code",
   "execution_count": 58,
   "id": "35f35c4d",
   "metadata": {},
   "outputs": [
    {
     "data": {
      "text/plain": [
       "81"
      ]
     },
     "execution_count": 58,
     "metadata": {},
     "output_type": "execute_result"
    }
   ],
   "source": [
    "#Find the square of 9\n",
    "sq = get_square(9)\n",
    "sq"
   ]
  },
  {
   "cell_type": "code",
   "execution_count": 59,
   "id": "75ee3420",
   "metadata": {},
   "outputs": [
    {
     "data": {
      "text/plain": [
       "True"
      ]
     },
     "execution_count": 59,
     "metadata": {},
     "output_type": "execute_result"
    }
   ],
   "source": [
    "#Check if the number '9' exists in the given list\n",
    "ex = exists([9,8,4,4], 9)\n",
    "ex"
   ]
  },
  {
   "cell_type": "markdown",
   "id": "93f8b7a4",
   "metadata": {},
   "source": [
    "## 11) Object Oriented Programming"
   ]
  },
  {
   "cell_type": "code",
   "execution_count": 13,
   "id": "416b0acc",
   "metadata": {},
   "outputs": [
    {
     "name": "stdout",
     "output_type": "stream",
     "text": [
      "Dog1 has been made\n",
      "Dog1 is 13 years old\n",
      "Dog2 has been made\n",
      "Dog2 is 9 years old\n"
     ]
    }
   ],
   "source": [
    "#Basic Class Outline\n",
    "\n",
    "class Dog:\n",
    "    \n",
    "    #constructor\n",
    "    def __init__(self, name, age):\n",
    "        self.name = name\n",
    "        self.age = age\n",
    "        print(self.name, \"has been made\")\n",
    "        print(self.name, \"is\", age, \"years old\")\n",
    "    \n",
    "    def bark():\n",
    "        print(\"Woof Woof\")\n",
    "        \n",
    "    def getname(self):\n",
    "        return self.name\n",
    "    \n",
    "    def getage(self):\n",
    "        return self.age\n",
    "    \n",
    "    def setage(self, val):\n",
    "        self.age = val\n",
    "    \n",
    "    def setname(self, n):\n",
    "        self.name = n\n",
    "        \n",
    "    def agenextyear(self, age):\n",
    "        return age+1\n",
    "    \n",
    "d1 = Dog(\"Dog1\",13)\n",
    "d2 = Dog(\"Dog2\", 9)\n"
   ]
  },
  {
   "cell_type": "code",
   "execution_count": 22,
   "id": "98c41f57",
   "metadata": {},
   "outputs": [
    {
     "name": "stdout",
     "output_type": "stream",
     "text": [
      "Enrolled Successfully\n",
      "Enrolled Successfully\n",
      "Enrolled Successfully\n",
      "Average score: 83.66666666666667\n"
     ]
    },
    {
     "data": {
      "text/plain": [
       "83.66666666666667"
      ]
     },
     "execution_count": 22,
     "metadata": {},
     "output_type": "execute_result"
    }
   ],
   "source": [
    "#Composition\n",
    "class Student:\n",
    "    \n",
    "    def __init__(self, name, age, score):\n",
    "        self.name = name\n",
    "        self.age = age\n",
    "        self.score = score\n",
    "        \n",
    "    def getscore(self):\n",
    "        return self.score\n",
    "    \n",
    "class Course:\n",
    "    \n",
    "    def __init__(self, name, maxstd):\n",
    "        self.name = name; \n",
    "        self.maxstd = maxstd\n",
    "        self.students = []\n",
    "        \n",
    "    def add_student(self, student):\n",
    "        if len(self.students) < self.maxstd:\n",
    "            self.students.append(student)\n",
    "            print(\"Enrolled Successfully\")\n",
    "            return True\n",
    "        print(\"Seats are full\")\n",
    "        return False\n",
    "    \n",
    "    \n",
    "    def avgscore(self):\n",
    "        \n",
    "        val = 0\n",
    "        for student in self.students:\n",
    "            val += student.getscore()\n",
    "            \n",
    "        print(\"Average score:\", val/len(self.students))\n",
    "        return val/len(self.students)\n",
    "        \n",
    "        \n",
    "S1 = Student(\"Maaz\", 21, 80)\n",
    "S2 = Student(\"Shehryar\", 21, 96)\n",
    "S3 = Student(\"Noor\", 19, 75)\n",
    "\n",
    "BigData = Course(\"Big Data Analytics\", 5)\n",
    "BigData.add_student(S1)\n",
    "BigData.add_student(S2)\n",
    "BigData.add_student(S3)\n",
    "BigData.avgscore()"
   ]
  },
  {
   "cell_type": "code",
   "execution_count": 33,
   "id": "2821c788",
   "metadata": {},
   "outputs": [
    {
     "name": "stdout",
     "output_type": "stream",
     "text": [
      "I am Tony and I am 18 years old\n",
      "\n",
      "\n",
      "\n",
      "I am Tom and I am 30 years old\n",
      "I am a Catto\n",
      "I am Tom and I am 30 years old\n",
      "Meow\n"
     ]
    }
   ],
   "source": [
    "#Inheritance\n",
    "\n",
    "class Pet:\n",
    "    \n",
    "    def __init__(self, name, age):\n",
    "        self.name = name\n",
    "        self.age = age\n",
    "        \n",
    "    def details(self):\n",
    "        print(f\"I am {self.name} and I am {self.age} years old\")\n",
    "        \n",
    "class Cat(Pet):\n",
    "    def speak(self):\n",
    "        print(\"Meow\")\n",
    "    \n",
    "    def all_details(self):\n",
    "        print(\"I am a Catto\")\n",
    "        self.details()\n",
    "        \n",
    "class Dog(Pet):\n",
    "    def speak(self):\n",
    "        print(\"Bark\")\n",
    "    \n",
    "P1 = Pet(\"Tony\", 18)\n",
    "P1.details()\n",
    "\n",
    "\n",
    "print(\"\\n\\n\")\n",
    "\n",
    "\n",
    "C1 = Cat(\"Tom\", 30)\n",
    "C1.details()\n",
    "C1.all_details()\n",
    "C1.speak()"
   ]
  },
  {
   "cell_type": "markdown",
   "id": "3d381b90",
   "metadata": {},
   "source": [
    "## 12) Libraries to Learn "
   ]
  },
  {
   "cell_type": "raw",
   "id": "23b468a7",
   "metadata": {},
   "source": [
    "#Data Processing, Cleaning\n",
    "1) NumPy\n",
    "2) Pandas\n",
    "\n",
    "#Data Visualization\n",
    "1) Matplotlib\n",
    "2) Seaborn\n",
    "\n",
    "#Data Scraping and Automation\n",
    "1) BeautifulSoup (bs4)\n",
    "2) Selenium\n",
    "\n",
    "#Language Processing\n",
    "1) NLTK\n",
    "\n",
    "#Game Development\n",
    "1) pygame\n",
    "\n",
    "#Feature Extraction\n",
    "1) skimage (Image Processing)\n",
    "2) librosa (Audio Processing)\n",
    "\n",
    "#Machine Learning\n",
    "1) sklearn (SciKit Learn)\n",
    "2) tensorflow\n",
    "3) keras\n",
    "4) pytorch"
   ]
  },
  {
   "cell_type": "code",
   "execution_count": null,
   "id": "a971dec4",
   "metadata": {},
   "outputs": [],
   "source": []
  }
 ],
 "metadata": {
  "kernelspec": {
   "display_name": "Python 3 (ipykernel)",
   "language": "python",
   "name": "python3"
  },
  "language_info": {
   "codemirror_mode": {
    "name": "ipython",
    "version": 3
   },
   "file_extension": ".py",
   "mimetype": "text/x-python",
   "name": "python",
   "nbconvert_exporter": "python",
   "pygments_lexer": "ipython3",
   "version": "3.9.7"
  }
 },
 "nbformat": 4,
 "nbformat_minor": 5
}
